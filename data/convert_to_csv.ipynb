{
 "cells": [
  {
   "cell_type": "code",
   "execution_count": 1,
   "metadata": {},
   "outputs": [],
   "source": [
    "import os\n",
    "import pandas as pd\n",
    "\n",
    "import json\n",
    "\n",
    "from collections import defaultdict"
   ]
  },
  {
   "cell_type": "code",
   "execution_count": 2,
   "metadata": {},
   "outputs": [],
   "source": [
    "data_filename = \"/home/zengs/data/Code/reproduce/protgps/data/dataset.json\"\n",
    "\n",
    "data_json = json.load(open(data_filename))\n"
   ]
  },
  {
   "cell_type": "code",
   "execution_count": 3,
   "metadata": {},
   "outputs": [],
   "source": [
    "LABEL_MAP =  {\n",
    "  \"transcriptional\" :  \"TRANSCRIPTIONAL\",\n",
    "  \"chromosomes\" :  \"CHROMOSOME\",\n",
    "  \"chromosome\" :  \"CHROMOSOME\",\n",
    "  \"nuclear_pore_complex\" :  \"NUCLEAR_PORE_COMPLEX\",\n",
    "  \"nuclear_speckles\" :  \"NUCLEAR_SPECKLE\",\n",
    "  \"nuclear_speckle\" :  \"NUCLEAR_SPECKLE\",\n",
    "  \"pbody\" :  \"P-BODY\",\n",
    "  \"p-body\" :  \"P-BODY\",\n",
    "  \"pml_body\" :  \"PML-BDOY\",\n",
    "  \"pml-bdoy\" :  \"PML-BDOY\",\n",
    "  \"post_synaptic_density\" :  \"POST_SYNAPTIC_DENSITY\",\n",
    "  \"stress_granule\" :  \"STRESS_GRANULE\",\n",
    "  \"nucleolus\" :  \"NUCLEOLUS\",\n",
    "  \"cajal_body\" :  \"CAJAL_BODY\",\n",
    "  \"rna_granule\" :  \"RNA_GRANULE\",\n",
    "  \"cell_junction\" :  \"CELL_JUNCTION\"\n",
    "}\n",
    "\n",
    "LABEL_COLS = ['TRANSCRIPTIONAL',\n",
    " 'CHROMOSOME',\n",
    " 'NUCLEAR_PORE_COMPLEX',\n",
    " 'NUCLEAR_SPECKLE',\n",
    " 'P-BODY',\n",
    " 'PML-BDOY',\n",
    " 'POST_SYNAPTIC_DENSITY',\n",
    " 'STRESS_GRANULE',\n",
    " 'NUCLEOLUS',\n",
    " 'CAJAL_BODY',\n",
    " 'RNA_GRANULE',\n",
    " 'CELL_JUNCTION']"
   ]
  },
  {
   "cell_type": "code",
   "execution_count": 4,
   "metadata": {},
   "outputs": [],
   "source": [
    "num_entry = 0\n",
    "num_entry_name = 0\n",
    "\n",
    "temp_data = None\n",
    "\n",
    "data_res = defaultdict(list)\n",
    "for one_data in data_json:\n",
    "  if \"entry\" in one_data:\n",
    "    data_res[\"entry\"].append(one_data[\"entry\"])\n",
    "    data_res[\"split\"].append(one_data[\"split\"])\n",
    "    data_res[\"sequence\"].append(one_data[\"sequence\"])\n",
    "    label_dict = one_data[\"labels\"]\n",
    "    \n",
    "    updated_label_dict = {}\n",
    "    for key, value in label_dict.items():\n",
    "      if key in LABEL_MAP:\n",
    "        if LABEL_MAP[key] == \"CHROMOSOME\" or LABEL_MAP[key] == \"NUCLEAR_SPECKLE\":\n",
    "          continue\n",
    "        updated_label_dict[LABEL_MAP[key]] = int(value)\n",
    "    \n",
    "    updated_label_dict[\"CHROMOSOME\"] = int((one_data[\"labels\"][\"chromosomes\"] + one_data[\"labels\"][\"chromosome\"]) > 0)\n",
    "    updated_label_dict[\"NUCLEAR_SPECKLE\"] = int(one_data[\"labels\"][\"nuclear_speckle\"] > 0)\n",
    "    data_res[\"labels\"].append(updated_label_dict)\n",
    "    \n",
    "    # if one_data[\"entry\"] == \"O00422\":\n",
    "    #   print(one_data)\n",
    "    #   break\n",
    "    \n",
    "  elif \"Entry Name\" in one_data:\n",
    "    data_res[\"entry\"].append(one_data[\"Entry\"])\n",
    "    data_res[\"split\"].append(one_data[\"split\"])\n",
    "    data_res[\"sequence\"].append(one_data[\"Sequence\"])\n",
    "    label_dict = one_data[\"labels\"]\n",
    "    \n",
    "    updated_label_dict = {}\n",
    "    for key, value in label_dict.items():\n",
    "      if key in LABEL_MAP:\n",
    "        updated_label_dict[LABEL_MAP[key]] = int(value)\n",
    "\n",
    "    data_res[\"labels\"].append(updated_label_dict)\n",
    "    \n",
    "    # if one_data[\"Entry\"] == \"O00422\":\n",
    "    #   print(one_data)\n",
    "    #   print(updated_label_dict)\n",
    "    #   break\n",
    "\n",
    "data_res_df = pd.DataFrame(data_res)"
   ]
  },
  {
   "cell_type": "code",
   "execution_count": 5,
   "metadata": {},
   "outputs": [
    {
     "data": {
      "text/plain": [
       "{'CAJAL_BODY': 0,\n",
       " 'NUCLEOLUS': 0,\n",
       " 'P-BODY': 0,\n",
       " 'PML-BDOY': 0,\n",
       " 'STRESS_GRANULE': 0,\n",
       " 'CELL_JUNCTION': 0,\n",
       " 'NUCLEAR_PORE_COMPLEX': 0,\n",
       " 'RNA_GRANULE': 0,\n",
       " 'CHROMOSOME': 1,\n",
       " 'NUCLEAR_SPECKLE': 0}"
      ]
     },
     "execution_count": 5,
     "metadata": {},
     "output_type": "execute_result"
    }
   ],
   "source": [
    "data_res_df[data_res_df.entry == \"BUB1B_HUMAN\"][\"labels\"].values[0]"
   ]
  },
  {
   "cell_type": "code",
   "execution_count": 6,
   "metadata": {},
   "outputs": [],
   "source": [
    "\n",
    "df_expanded = pd.json_normalize(data_res_df['labels'])\n",
    "df_expanded = df_expanded[LABEL_COLS]\n",
    "df_final = data_res_df.drop(columns=['labels']).join(df_expanded)\n",
    "df_final.fillna(0, inplace=True)\n"
   ]
  },
  {
   "cell_type": "code",
   "execution_count": 7,
   "metadata": {},
   "outputs": [],
   "source": [
    "for col in LABEL_COLS:\n",
    "  df_final[col] = df_final[col].astype(int)\n",
    "  \n",
    "df_final = df_final[[col for col in df_final.columns if col != 'sequence'] + ['sequence']]\n",
    "df_final.to_csv(\"dataset_from_json.csv\", index=False)\n",
    "df_final.to_excel(\"dataset_from_json.xlsx\", index=False)"
   ]
  }
 ],
 "metadata": {
  "kernelspec": {
   "display_name": "env_local",
   "language": "python",
   "name": "python3"
  },
  "language_info": {
   "codemirror_mode": {
    "name": "ipython",
    "version": 3
   },
   "file_extension": ".py",
   "mimetype": "text/x-python",
   "name": "python",
   "nbconvert_exporter": "python",
   "pygments_lexer": "ipython3",
   "version": "3.9.19"
  }
 },
 "nbformat": 4,
 "nbformat_minor": 2
}
